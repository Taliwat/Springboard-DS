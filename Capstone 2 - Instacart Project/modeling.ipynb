{
 "cells": [
  {
   "cell_type": "markdown",
   "metadata": {},
   "source": [
    "# Modeling Notebook"
   ]
  },
  {
   "cell_type": "markdown",
   "metadata": {},
   "source": [
    "## In this notebook we will pick up where we left off and start with our next model(s) for evaluation, keeping track of them through our metrics table up top.  Once we finish all of our models we will select the ones to continue with the model stack and then on to the Bayes Optimization."
   ]
  },
  {
   "cell_type": "markdown",
   "metadata": {},
   "source": [
    "### First as usual let's import our libraries, read in our dataframe for usage, and train our X,y values for our models to come."
   ]
  },
  {
   "cell_type": "code",
   "execution_count": 3,
   "metadata": {},
   "outputs": [],
   "source": [
    "import matplotlib.pyplot as plt\n",
    "%matplotlib inline\n",
    "import seaborn as sns\n",
    "import numpy as np\n",
    "import pandas as pd\n",
    "import warnings\n",
    "warnings.filterwarnings('ignore')\n",
    "from sklearn.linear_model import LogisticRegression\n",
    "from sklearn.metrics import accuracy_score, confusion_matrix, classification_report, roc_curve, auc\n",
    "from sklearn.model_selection import train_test_split\n",
    "from surprise import Dataset, Reader\n",
    "from surprise import SVD\n",
    "from surprise.model_selection import cross_validate\n",
    "from surprise import accuracy\n",
    "\n",
    "\n",
    "# Stored variables not reading back in properly, marking out for now and re-training the X and y below.\n",
    "#%store -r X\n",
    "#%store -r y\n",
    "#%store -r X_train\n",
    "#%store -r X_test\n",
    "#%store -r y_train\n",
    "#%store -r y_test"
   ]
  },
  {
   "cell_type": "code",
   "execution_count": 6,
   "metadata": {},
   "outputs": [
    {
     "name": "stdout",
     "output_type": "stream",
     "text": [
      "(2580206, 14)\n"
     ]
    },
    {
     "data": {
      "text/html": [
       "<div>\n",
       "<style scoped>\n",
       "    .dataframe tbody tr th:only-of-type {\n",
       "        vertical-align: middle;\n",
       "    }\n",
       "\n",
       "    .dataframe tbody tr th {\n",
       "        vertical-align: top;\n",
       "    }\n",
       "\n",
       "    .dataframe thead th {\n",
       "        text-align: right;\n",
       "    }\n",
       "</style>\n",
       "<table border=\"1\" class=\"dataframe\">\n",
       "  <thead>\n",
       "    <tr style=\"text-align: right;\">\n",
       "      <th></th>\n",
       "      <th>user_id</th>\n",
       "      <th>order_number</th>\n",
       "      <th>order_id</th>\n",
       "      <th>order_dow</th>\n",
       "      <th>order_hour_of_day</th>\n",
       "      <th>days_since_prior_order</th>\n",
       "      <th>product_id</th>\n",
       "      <th>add_to_cart_order</th>\n",
       "      <th>reordered</th>\n",
       "      <th>aisle_id</th>\n",
       "      <th>department_id</th>\n",
       "      <th>product_name_code</th>\n",
       "      <th>aisle_code</th>\n",
       "      <th>department_code</th>\n",
       "    </tr>\n",
       "  </thead>\n",
       "  <tbody>\n",
       "    <tr>\n",
       "      <th>0</th>\n",
       "      <td>1</td>\n",
       "      <td>1</td>\n",
       "      <td>2539329</td>\n",
       "      <td>3</td>\n",
       "      <td>9</td>\n",
       "      <td>12.0</td>\n",
       "      <td>26405</td>\n",
       "      <td>5</td>\n",
       "      <td>0</td>\n",
       "      <td>54</td>\n",
       "      <td>17</td>\n",
       "      <td>31683</td>\n",
       "      <td>99</td>\n",
       "      <td>11</td>\n",
       "    </tr>\n",
       "    <tr>\n",
       "      <th>1</th>\n",
       "      <td>1</td>\n",
       "      <td>2</td>\n",
       "      <td>2398795</td>\n",
       "      <td>4</td>\n",
       "      <td>8</td>\n",
       "      <td>16.0</td>\n",
       "      <td>26088</td>\n",
       "      <td>6</td>\n",
       "      <td>1</td>\n",
       "      <td>23</td>\n",
       "      <td>19</td>\n",
       "      <td>980</td>\n",
       "      <td>103</td>\n",
       "      <td>20</td>\n",
       "    </tr>\n",
       "    <tr>\n",
       "      <th>2</th>\n",
       "      <td>1</td>\n",
       "      <td>3</td>\n",
       "      <td>473747</td>\n",
       "      <td>4</td>\n",
       "      <td>13</td>\n",
       "      <td>22.0</td>\n",
       "      <td>30450</td>\n",
       "      <td>5</td>\n",
       "      <td>1</td>\n",
       "      <td>88</td>\n",
       "      <td>13</td>\n",
       "      <td>7124</td>\n",
       "      <td>124</td>\n",
       "      <td>16</td>\n",
       "    </tr>\n",
       "    <tr>\n",
       "      <th>3</th>\n",
       "      <td>1</td>\n",
       "      <td>4</td>\n",
       "      <td>2254736</td>\n",
       "      <td>5</td>\n",
       "      <td>8</td>\n",
       "      <td>30.0</td>\n",
       "      <td>26405</td>\n",
       "      <td>5</td>\n",
       "      <td>1</td>\n",
       "      <td>54</td>\n",
       "      <td>17</td>\n",
       "      <td>31683</td>\n",
       "      <td>99</td>\n",
       "      <td>11</td>\n",
       "    </tr>\n",
       "    <tr>\n",
       "      <th>4</th>\n",
       "      <td>1</td>\n",
       "      <td>5</td>\n",
       "      <td>431534</td>\n",
       "      <td>5</td>\n",
       "      <td>16</td>\n",
       "      <td>29.0</td>\n",
       "      <td>41787</td>\n",
       "      <td>8</td>\n",
       "      <td>1</td>\n",
       "      <td>24</td>\n",
       "      <td>4</td>\n",
       "      <td>2419</td>\n",
       "      <td>50</td>\n",
       "      <td>19</td>\n",
       "    </tr>\n",
       "  </tbody>\n",
       "</table>\n",
       "</div>"
      ],
      "text/plain": [
       "   user_id  order_number  order_id  order_dow  order_hour_of_day  \\\n",
       "0        1             1   2539329          3                  9   \n",
       "1        1             2   2398795          4                  8   \n",
       "2        1             3    473747          4                 13   \n",
       "3        1             4   2254736          5                  8   \n",
       "4        1             5    431534          5                 16   \n",
       "\n",
       "   days_since_prior_order  product_id  add_to_cart_order  reordered  aisle_id  \\\n",
       "0                    12.0       26405                  5          0        54   \n",
       "1                    16.0       26088                  6          1        23   \n",
       "2                    22.0       30450                  5          1        88   \n",
       "3                    30.0       26405                  5          1        54   \n",
       "4                    29.0       41787                  8          1        24   \n",
       "\n",
       "   department_id  product_name_code  aisle_code  department_code  \n",
       "0             17              31683          99               11  \n",
       "1             19                980         103               20  \n",
       "2             13               7124         124               16  \n",
       "3             17              31683          99               11  \n",
       "4              4               2419          50               19  "
      ]
     },
     "execution_count": 6,
     "metadata": {},
     "output_type": "execute_result"
    }
   ],
   "source": [
    "df_mod = pd.read_csv(f'/Users/ryanm/Desktop/df-mod.csv')\n",
    "print(df_mod.shape)\n",
    "df_mod.head(5)"
   ]
  },
  {
   "cell_type": "code",
   "execution_count": 7,
   "metadata": {},
   "outputs": [],
   "source": [
    "X = df_mod.drop('reordered', axis = 1)\n",
    "y = df_mod['reordered']\n",
    "\n",
    "X_train, X_test, y_train, y_test = train_test_split(X, y, test_size=0.2, random_state=42)"
   ]
  },
  {
   "cell_type": "markdown",
   "metadata": {},
   "source": [
    "### Below you will see a table that summarizes all the metrics of each model we are building in this project.  We will use this to not only quickly visualize how each performed but to be able to pick which models we wish to use for our model stack later on."
   ]
  },
  {
   "cell_type": "code",
   "execution_count": 8,
   "metadata": {},
   "outputs": [
    {
     "name": "stdout",
     "output_type": "stream",
     "text": [
      "                 Model  Precision  Accuracy   F-1\n",
      "0  Logistic Regression       0.77      0.88  0.82\n"
     ]
    }
   ],
   "source": [
    "models = ['Logistic Regression']\n",
    "table_metrics = {'Model' : models, 'Precision' : 0.77, 'Accuracy' : 0.88, 'F-1' : 0.82}\n",
    "# Other models to be entered in as they are completed and outputs become available\n",
    "# Look into leveling up the appearance of the table, as it is a main feature as far as appearance and reference of this notebook.\n",
    "\n",
    "table_metrics_df = pd.DataFrame(table_metrics)\n",
    "print(table_metrics_df)\n",
    "\n"
   ]
  },
  {
   "cell_type": "markdown",
   "metadata": {},
   "source": []
  },
  {
   "cell_type": "code",
   "execution_count": 9,
   "metadata": {},
   "outputs": [
    {
     "name": "stdout",
     "output_type": "stream",
     "text": [
      "Evaluating RMSE, MAE of algorithm SVD on 5 split(s).\n",
      "\n",
      "                  Fold 1  Fold 2  Fold 3  Fold 4  Fold 5  Mean    Std     \n",
      "RMSE (testset)    0.3349  0.3353  0.3350  0.3351  0.3346  0.3350  0.0002  \n",
      "MAE (testset)     0.2486  0.2495  0.2488  0.2493  0.2478  0.2488  0.0006  \n",
      "Fit time          33.14   35.46   36.25   37.61   37.03   35.90   1.56    \n",
      "Test time         5.56    5.71    5.87    7.10    6.44    6.14    0.57    \n",
      "{'test_rmse': array([0.33491687, 0.33526842, 0.3350459 , 0.33505275, 0.33459822]), 'test_mae': array([0.24860911, 0.24947204, 0.24875975, 0.24933599, 0.24782499]), 'fit_time': (33.13718295097351, 35.4607367515564, 36.247190713882446, 37.60566806793213, 37.027615785598755), 'test_time': (5.558759927749634, 5.708536863327026, 5.870195388793945, 7.1048126220703125, 6.441673040390015)}\n"
     ]
    }
   ],
   "source": [
    "# Note SVD not complete, had issues with running.  Will tune.\n",
    "reader = Reader(rating_scale=(0,1))\n",
    "data = Dataset.load_from_df(df_mod[['user_id', 'product_name_code', 'reordered']], reader)\n",
    "\n",
    "svd = SVD()\n",
    "results = cross_validate(svd, data, measures=['RMSE', 'MAE'], cv=5, verbose=True)\n",
    "print(results)"
   ]
  },
  {
   "cell_type": "code",
   "execution_count": 10,
   "metadata": {},
   "outputs": [
    {
     "ename": "KeyboardInterrupt",
     "evalue": "",
     "output_type": "error",
     "traceback": [
      "\u001b[1;31m---------------------------------------------------------------------------\u001b[0m",
      "\u001b[1;31mKeyboardInterrupt\u001b[0m                         Traceback (most recent call last)",
      "Cell \u001b[1;32mIn[10], line 8\u001b[0m\n\u001b[0;32m      6\u001b[0m \u001b[38;5;28;01mfor\u001b[39;00m user \u001b[38;5;129;01min\u001b[39;00m df_user_all:\n\u001b[0;32m      7\u001b[0m     \u001b[38;5;28;01mfor\u001b[39;00m product \u001b[38;5;129;01min\u001b[39;00m df_products_all:\n\u001b[1;32m----> 8\u001b[0m         pred \u001b[38;5;241m=\u001b[39m \u001b[43msvd\u001b[49m\u001b[38;5;241;43m.\u001b[39;49m\u001b[43mpredict\u001b[49m\u001b[43m(\u001b[49m\u001b[38;5;28;43mstr\u001b[39;49m\u001b[43m(\u001b[49m\u001b[43muser\u001b[49m\u001b[43m)\u001b[49m\u001b[43m,\u001b[49m\u001b[43m \u001b[49m\u001b[38;5;28;43mstr\u001b[39;49m\u001b[43m(\u001b[49m\u001b[43mproduct\u001b[49m\u001b[43m)\u001b[49m\u001b[43m)\u001b[49m\n\u001b[0;32m      9\u001b[0m         svd_predictions\u001b[38;5;241m.\u001b[39mappend((user, product, pred\u001b[38;5;241m.\u001b[39mest))\n\u001b[0;32m     11\u001b[0m predictions_df \u001b[38;5;241m=\u001b[39m pd\u001b[38;5;241m.\u001b[39mDataFrame(svd_predictions, columns \u001b[38;5;241m=\u001b[39m [\u001b[38;5;124m'\u001b[39m\u001b[38;5;124muser_id\u001b[39m\u001b[38;5;124m'\u001b[39m, \u001b[38;5;124m'\u001b[39m\u001b[38;5;124mproduct_name_code\u001b[39m\u001b[38;5;124m'\u001b[39m, \u001b[38;5;124m'\u001b[39m\u001b[38;5;124mpredicted_rating\u001b[39m\u001b[38;5;124m'\u001b[39m])\n",
      "File \u001b[1;32mc:\\Python311\\Lib\\site-packages\\surprise\\prediction_algorithms\\algo_base.py:121\u001b[0m, in \u001b[0;36mAlgoBase.predict\u001b[1;34m(self, uid, iid, r_ui, clip, verbose)\u001b[0m\n\u001b[0;32m    118\u001b[0m     est \u001b[38;5;241m=\u001b[39m \u001b[38;5;28mmin\u001b[39m(higher_bound, est)\n\u001b[0;32m    119\u001b[0m     est \u001b[38;5;241m=\u001b[39m \u001b[38;5;28mmax\u001b[39m(lower_bound, est)\n\u001b[1;32m--> 121\u001b[0m pred \u001b[38;5;241m=\u001b[39m \u001b[43mPrediction\u001b[49m\u001b[43m(\u001b[49m\u001b[43muid\u001b[49m\u001b[43m,\u001b[49m\u001b[43m \u001b[49m\u001b[43miid\u001b[49m\u001b[43m,\u001b[49m\u001b[43m \u001b[49m\u001b[43mr_ui\u001b[49m\u001b[43m,\u001b[49m\u001b[43m \u001b[49m\u001b[43mest\u001b[49m\u001b[43m,\u001b[49m\u001b[43m \u001b[49m\u001b[43mdetails\u001b[49m\u001b[43m)\u001b[49m\n\u001b[0;32m    123\u001b[0m \u001b[38;5;28;01mif\u001b[39;00m verbose:\n\u001b[0;32m    124\u001b[0m     \u001b[38;5;28mprint\u001b[39m(pred)\n",
      "File \u001b[1;32m<string>:1\u001b[0m, in \u001b[0;36m<lambda>\u001b[1;34m(_cls, uid, iid, r_ui, est, details)\u001b[0m\n",
      "\u001b[1;31mKeyboardInterrupt\u001b[0m: "
     ]
    }
   ],
   "source": [
    "df_user_all = df_mod['user_id'].unique()\n",
    "df_products_all = df_mod['product_name_code'].unique()\n",
    "\n",
    "svd_predictions = []\n",
    "\n",
    "for user in df_user_all:\n",
    "    for product in df_products_all:\n",
    "        pred = svd.predict(str(user), str(product))\n",
    "        svd_predictions.append((user, product, pred.est))\n",
    "        \n",
    "predictions_df = pd.DataFrame(svd_predictions, columns = ['user_id', 'product_name_code', 'predicted_rating'])\n",
    "\n",
    "best_recommendations = predictions_df.groupby('user_id').apply(lambda x: x.nlargest(5, 'predicted_rating')).reset_index(drop=True)"
   ]
  },
  {
   "cell_type": "code",
   "execution_count": null,
   "metadata": {},
   "outputs": [],
   "source": []
  },
  {
   "cell_type": "markdown",
   "metadata": {},
   "source": [
    "### Now let's move on to the RNN-LSTM model.  This model will not be used in the model stack, however, will be used for our n predictions and our final outputs when the project is completed so is very important."
   ]
  },
  {
   "cell_type": "code",
   "execution_count": null,
   "metadata": {},
   "outputs": [],
   "source": []
  },
  {
   "cell_type": "code",
   "execution_count": null,
   "metadata": {},
   "outputs": [],
   "source": []
  },
  {
   "cell_type": "markdown",
   "metadata": {},
   "source": [
    "### Great, now let's move on to our last model in the XGBoost."
   ]
  },
  {
   "cell_type": "code",
   "execution_count": null,
   "metadata": {},
   "outputs": [],
   "source": []
  },
  {
   "cell_type": "code",
   "execution_count": null,
   "metadata": {},
   "outputs": [],
   "source": []
  },
  {
   "cell_type": "markdown",
   "metadata": {},
   "source": [
    "### With all of our independent models trained, let's review the metrics table and pick out which ones we want in our model stack before continuing on to the final phase of this notebook in the Bayes Optimization."
   ]
  },
  {
   "cell_type": "markdown",
   "metadata": {},
   "source": []
  }
 ],
 "metadata": {
  "kernelspec": {
   "display_name": "Python 3",
   "language": "python",
   "name": "python3"
  },
  "language_info": {
   "codemirror_mode": {
    "name": "ipython",
    "version": 3
   },
   "file_extension": ".py",
   "mimetype": "text/x-python",
   "name": "python",
   "nbconvert_exporter": "python",
   "pygments_lexer": "ipython3",
   "version": "3.11.0"
  }
 },
 "nbformat": 4,
 "nbformat_minor": 2
}
