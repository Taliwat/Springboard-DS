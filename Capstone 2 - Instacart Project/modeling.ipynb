{
 "cells": [
  {
   "cell_type": "markdown",
   "metadata": {},
   "source": [
    "# **Modeling Notebook**"
   ]
  },
  {
   "cell_type": "markdown",
   "metadata": {},
   "source": [
    "### In this notebook we will pick up where we left off and start with our next model(s) for evaluation, keeping track of them through our metrics table up top.  Once we finish all of our models we will select the ones to continue with the model stack and then on to the Bayes Optimization."
   ]
  },
  {
   "cell_type": "markdown",
   "metadata": {},
   "source": [
    "#### First as usual let's read in our dataframe for usage and train our X,y values for our models to come."
   ]
  },
  {
   "cell_type": "code",
   "execution_count": 7,
   "metadata": {},
   "outputs": [],
   "source": [
    "import matplotlib.pyplot as plt\n",
    "%matplotlib inline\n",
    "import seaborn as sns\n",
    "import numpy as np\n",
    "import pandas as pd\n",
    "import warnings\n",
    "warnings.filterwarnings('ignore')\n",
    "from sklearn.metrics import accuracy_score, confusion_matrix, roc_auc_score, classification_report, roc_curve, auc\n",
    "from sklearn.model_selection import train_test_split\n",
    "from tensorflow.keras.models import Sequential\n",
    "from tensorflow.keras.layers import LSTM, Dense, Dropout\n",
    "\n",
    "\n"
   ]
  },
  {
   "cell_type": "code",
   "execution_count": 2,
   "metadata": {},
   "outputs": [
    {
     "name": "stdout",
     "output_type": "stream",
     "text": [
      "(3214874, 24)\n"
     ]
    },
    {
     "data": {
      "text/html": [
       "<div>\n",
       "<style scoped>\n",
       "    .dataframe tbody tr th:only-of-type {\n",
       "        vertical-align: middle;\n",
       "    }\n",
       "\n",
       "    .dataframe tbody tr th {\n",
       "        vertical-align: top;\n",
       "    }\n",
       "\n",
       "    .dataframe thead th {\n",
       "        text-align: right;\n",
       "    }\n",
       "</style>\n",
       "<table border=\"1\" class=\"dataframe\">\n",
       "  <thead>\n",
       "    <tr style=\"text-align: right;\">\n",
       "      <th></th>\n",
       "      <th>user_id</th>\n",
       "      <th>order_number</th>\n",
       "      <th>order_id</th>\n",
       "      <th>order_dow</th>\n",
       "      <th>order_hour_of_day</th>\n",
       "      <th>days_since_prior_order</th>\n",
       "      <th>product_id</th>\n",
       "      <th>add_to_cart_order</th>\n",
       "      <th>reordered</th>\n",
       "      <th>aisle_id</th>\n",
       "      <th>...</th>\n",
       "      <th>user_product_order_count</th>\n",
       "      <th>user_product_last_order</th>\n",
       "      <th>user_product_reorder_count</th>\n",
       "      <th>avg_days_between_orders</th>\n",
       "      <th>std_days_between_orders</th>\n",
       "      <th>total_orders</th>\n",
       "      <th>total_user_unique_products</th>\n",
       "      <th>user_reorder_proportion</th>\n",
       "      <th>product_popularity</th>\n",
       "      <th>avg_cart_position</th>\n",
       "    </tr>\n",
       "  </thead>\n",
       "  <tbody>\n",
       "    <tr>\n",
       "      <th>0</th>\n",
       "      <td>1</td>\n",
       "      <td>1</td>\n",
       "      <td>2539329</td>\n",
       "      <td>3</td>\n",
       "      <td>9</td>\n",
       "      <td>12.0</td>\n",
       "      <td>26405</td>\n",
       "      <td>5</td>\n",
       "      <td>0</td>\n",
       "      <td>54</td>\n",
       "      <td>...</td>\n",
       "      <td>2</td>\n",
       "      <td>4</td>\n",
       "      <td>1</td>\n",
       "      <td>19.7</td>\n",
       "      <td>9.26</td>\n",
       "      <td>10</td>\n",
       "      <td>7</td>\n",
       "      <td>0.9</td>\n",
       "      <td>405</td>\n",
       "      <td>2.02</td>\n",
       "    </tr>\n",
       "    <tr>\n",
       "      <th>1</th>\n",
       "      <td>1</td>\n",
       "      <td>2</td>\n",
       "      <td>2398795</td>\n",
       "      <td>4</td>\n",
       "      <td>8</td>\n",
       "      <td>16.0</td>\n",
       "      <td>26088</td>\n",
       "      <td>6</td>\n",
       "      <td>1</td>\n",
       "      <td>23</td>\n",
       "      <td>...</td>\n",
       "      <td>1</td>\n",
       "      <td>2</td>\n",
       "      <td>1</td>\n",
       "      <td>19.7</td>\n",
       "      <td>9.26</td>\n",
       "      <td>10</td>\n",
       "      <td>7</td>\n",
       "      <td>0.9</td>\n",
       "      <td>247</td>\n",
       "      <td>2.99</td>\n",
       "    </tr>\n",
       "    <tr>\n",
       "      <th>2</th>\n",
       "      <td>1</td>\n",
       "      <td>3</td>\n",
       "      <td>473747</td>\n",
       "      <td>4</td>\n",
       "      <td>13</td>\n",
       "      <td>22.0</td>\n",
       "      <td>30450</td>\n",
       "      <td>5</td>\n",
       "      <td>1</td>\n",
       "      <td>88</td>\n",
       "      <td>...</td>\n",
       "      <td>1</td>\n",
       "      <td>3</td>\n",
       "      <td>1</td>\n",
       "      <td>19.7</td>\n",
       "      <td>9.26</td>\n",
       "      <td>10</td>\n",
       "      <td>7</td>\n",
       "      <td>0.9</td>\n",
       "      <td>1696</td>\n",
       "      <td>3.40</td>\n",
       "    </tr>\n",
       "    <tr>\n",
       "      <th>3</th>\n",
       "      <td>1</td>\n",
       "      <td>4</td>\n",
       "      <td>2254736</td>\n",
       "      <td>5</td>\n",
       "      <td>8</td>\n",
       "      <td>30.0</td>\n",
       "      <td>26405</td>\n",
       "      <td>5</td>\n",
       "      <td>1</td>\n",
       "      <td>54</td>\n",
       "      <td>...</td>\n",
       "      <td>2</td>\n",
       "      <td>4</td>\n",
       "      <td>1</td>\n",
       "      <td>19.7</td>\n",
       "      <td>9.26</td>\n",
       "      <td>10</td>\n",
       "      <td>7</td>\n",
       "      <td>0.9</td>\n",
       "      <td>405</td>\n",
       "      <td>2.02</td>\n",
       "    </tr>\n",
       "    <tr>\n",
       "      <th>4</th>\n",
       "      <td>1</td>\n",
       "      <td>5</td>\n",
       "      <td>431534</td>\n",
       "      <td>5</td>\n",
       "      <td>16</td>\n",
       "      <td>29.0</td>\n",
       "      <td>41787</td>\n",
       "      <td>8</td>\n",
       "      <td>1</td>\n",
       "      <td>24</td>\n",
       "      <td>...</td>\n",
       "      <td>1</td>\n",
       "      <td>5</td>\n",
       "      <td>1</td>\n",
       "      <td>19.7</td>\n",
       "      <td>9.26</td>\n",
       "      <td>10</td>\n",
       "      <td>7</td>\n",
       "      <td>0.9</td>\n",
       "      <td>5653</td>\n",
       "      <td>7.29</td>\n",
       "    </tr>\n",
       "  </tbody>\n",
       "</table>\n",
       "<p>5 rows × 24 columns</p>\n",
       "</div>"
      ],
      "text/plain": [
       "   user_id  order_number  order_id  order_dow  order_hour_of_day  \\\n",
       "0        1             1   2539329          3                  9   \n",
       "1        1             2   2398795          4                  8   \n",
       "2        1             3    473747          4                 13   \n",
       "3        1             4   2254736          5                  8   \n",
       "4        1             5    431534          5                 16   \n",
       "\n",
       "   days_since_prior_order  product_id  add_to_cart_order  reordered  aisle_id  \\\n",
       "0                    12.0       26405                  5          0        54   \n",
       "1                    16.0       26088                  6          1        23   \n",
       "2                    22.0       30450                  5          1        88   \n",
       "3                    30.0       26405                  5          1        54   \n",
       "4                    29.0       41787                  8          1        24   \n",
       "\n",
       "   ...  user_product_order_count  user_product_last_order  \\\n",
       "0  ...                         2                        4   \n",
       "1  ...                         1                        2   \n",
       "2  ...                         1                        3   \n",
       "3  ...                         2                        4   \n",
       "4  ...                         1                        5   \n",
       "\n",
       "   user_product_reorder_count  avg_days_between_orders  \\\n",
       "0                           1                     19.7   \n",
       "1                           1                     19.7   \n",
       "2                           1                     19.7   \n",
       "3                           1                     19.7   \n",
       "4                           1                     19.7   \n",
       "\n",
       "   std_days_between_orders  total_orders  total_user_unique_products  \\\n",
       "0                     9.26            10                           7   \n",
       "1                     9.26            10                           7   \n",
       "2                     9.26            10                           7   \n",
       "3                     9.26            10                           7   \n",
       "4                     9.26            10                           7   \n",
       "\n",
       "   user_reorder_proportion  product_popularity  avg_cart_position  \n",
       "0                      0.9                 405               2.02  \n",
       "1                      0.9                 247               2.99  \n",
       "2                      0.9                1696               3.40  \n",
       "3                      0.9                 405               2.02  \n",
       "4                      0.9                5653               7.29  \n",
       "\n",
       "[5 rows x 24 columns]"
      ]
     },
     "execution_count": 2,
     "metadata": {},
     "output_type": "execute_result"
    }
   ],
   "source": [
    "df_scaled = pd.read_csv(f'/Users/ryanm/Desktop/df-scaled.csv')\n",
    "print(df_scaled.shape)\n",
    "df_scaled.head(5)"
   ]
  },
  {
   "cell_type": "code",
   "execution_count": 3,
   "metadata": {},
   "outputs": [],
   "source": [
    "X = df_scaled.drop('reordered', axis = 1)\n",
    "y = df_scaled['reordered']\n",
    "\n",
    "X_train, X_test, y_train, y_test = train_test_split(X, y, test_size=0.2, random_state=42)"
   ]
  },
  {
   "cell_type": "markdown",
   "metadata": {},
   "source": [
    "#### Below you will see a table that summarizes all the metrics of each model we are building in this project.  We will use this to not only quickly visualize how each performed but to be able to pick which models we wish to use for our model stack later on."
   ]
  },
  {
   "cell_type": "code",
   "execution_count": 8,
   "metadata": {},
   "outputs": [
    {
     "name": "stdout",
     "output_type": "stream",
     "text": [
      "                 Model  Precision  Accuracy   F-1\n",
      "0  Logistic Regression       0.77      0.88  0.82\n"
     ]
    }
   ],
   "source": [
    "models = ['Logistic Regression Base', 'LogReg SMOTE', 'RNN-LSTM']\n",
    "table_metrics = {'Model' : models, 'Precision' : [0.77, 0.90], 'Recall' : [0.88, 0.82], 'F-1' : [0.82, 0.84], 'ROC AUC Score' : [0.59, 0.89]}\n",
    "# Other models to be entered in as they are completed and outputs become available\n",
    "# Look into leveling up the appearance of the table, as it is a main feature as far as appearance and reference of this notebook.\n",
    "\n",
    "table_metrics_df = pd.DataFrame(table_metrics)\n",
    "print(table_metrics_df)\n",
    "\n"
   ]
  },
  {
   "cell_type": "markdown",
   "metadata": {},
   "source": [
    "#### We will continue on now with a RNN-LSTM model to prepare the sequentionality of our dataset as well as allowing us to predict the n purchases of our users."
   ]
  },
  {
   "cell_type": "code",
   "execution_count": null,
   "metadata": {},
   "outputs": [],
   "source": []
  },
  {
   "cell_type": "code",
   "execution_count": null,
   "metadata": {},
   "outputs": [],
   "source": []
  },
  {
   "cell_type": "code",
   "execution_count": null,
   "metadata": {},
   "outputs": [],
   "source": []
  },
  {
   "cell_type": "code",
   "execution_count": null,
   "metadata": {},
   "outputs": [],
   "source": []
  },
  {
   "cell_type": "code",
   "execution_count": null,
   "metadata": {},
   "outputs": [],
   "source": []
  },
  {
   "cell_type": "code",
   "execution_count": null,
   "metadata": {},
   "outputs": [],
   "source": []
  },
  {
   "cell_type": "code",
   "execution_count": null,
   "metadata": {},
   "outputs": [],
   "source": []
  },
  {
   "cell_type": "markdown",
   "metadata": {},
   "source": [
    "#### Great, now let's move on to our last model in the XGBoost."
   ]
  },
  {
   "cell_type": "code",
   "execution_count": null,
   "metadata": {},
   "outputs": [],
   "source": []
  },
  {
   "cell_type": "code",
   "execution_count": null,
   "metadata": {},
   "outputs": [],
   "source": []
  },
  {
   "cell_type": "markdown",
   "metadata": {},
   "source": [
    "#### With all of our independent models trained, let's review the metrics table and pick out which ones we want in our model stack before continuing on to the final phase of this notebook in the Bayes Optimization."
   ]
  },
  {
   "cell_type": "code",
   "execution_count": null,
   "metadata": {},
   "outputs": [],
   "source": []
  },
  {
   "cell_type": "code",
   "execution_count": null,
   "metadata": {},
   "outputs": [],
   "source": []
  },
  {
   "cell_type": "code",
   "execution_count": null,
   "metadata": {},
   "outputs": [],
   "source": [
    "main_path = r'C:/Users/ryanm/Desktop/df-scaled.csv'\n",
    "\n",
    "#df_mod = df\n",
    "df_scaled.to_csv(main_path, index = False)"
   ]
  },
  {
   "cell_type": "markdown",
   "metadata": {},
   "source": []
  }
 ],
 "metadata": {
  "kernelspec": {
   "display_name": "Python 3",
   "language": "python",
   "name": "python3"
  },
  "language_info": {
   "codemirror_mode": {
    "name": "ipython",
    "version": 3
   },
   "file_extension": ".py",
   "mimetype": "text/x-python",
   "name": "python",
   "nbconvert_exporter": "python",
   "pygments_lexer": "ipython3",
   "version": "3.11.0"
  }
 },
 "nbformat": 4,
 "nbformat_minor": 2
}
