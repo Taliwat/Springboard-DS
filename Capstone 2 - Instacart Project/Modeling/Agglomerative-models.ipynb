{
 "cells": [
  {
   "cell_type": "markdown",
   "metadata": {},
   "source": [
    "# **Customer Segmentation Notebook Showing Modeling Using Agglomerative Clustering**"
   ]
  },
  {
   "cell_type": "markdown",
   "metadata": {},
   "source": [
    "### In this notebook, similar to the first modeling notebook we conducted with the KMeans modeling, we will utilize our previously scaled version of our dataframe so we can look at the customer clusters extracted based on the custom features that we have created.  In this notebook we will be utilizing and focusing on Agglomerative Clustering, and will see in the summary how it differs in the results."
   ]
  },
  {
   "cell_type": "code",
   "execution_count": 11,
   "metadata": {},
   "outputs": [],
   "source": [
    "import matplotlib.pyplot as plt\n",
    "%matplotlib inline\n",
    "import seaborn as sns\n",
    "import numpy as np\n",
    "import pandas as pd\n",
    "import warnings\n",
    "warnings.filterwarnings('ignore')\n",
    "from yellowbrick.cluster import SilhouetteVisualizer\n",
    "from sklearn.cluster import AgglomerativeClustering\n",
    "from sklearn.decomposition import PCA"
   ]
  },
  {
   "cell_type": "markdown",
   "metadata": {},
   "source": [
    "#### Let's read in our saved dataframe so we can start to work with it here in this notebook again."
   ]
  },
  {
   "cell_type": "code",
   "execution_count": 13,
   "metadata": {},
   "outputs": [
    {
     "name": "stdout",
     "output_type": "stream",
     "text": [
      "(206209, 11)\n",
      "Index(['order_dow_mean', 'order_hour_of_day_mean', 'time_between_purchases',\n",
      "       'purchase_frequency', 'kmeans_opt_cluster', 'agg_ward_cluster',\n",
      "       'agg_complete_cluster', 'agg_average_cluster', 'agg_single_cluster',\n",
      "       'dbscan_cluster', 'user_id'],\n",
      "      dtype='object')\n",
      "    order_dow_mean  order_hour_of_day_mean  time_between_purchases  \\\n",
      "0        -0.269018               -1.557111                0.764202   \n",
      "1        -0.648385               -1.428500                0.110680   \n",
      "2        -1.773842                1.341157               -0.396789   \n",
      "3         2.174108               -0.467299               -0.188850   \n",
      "4        -1.065689                1.143728               -0.266827   \n",
      "5         0.970249                1.775503               -0.801114   \n",
      "6        -0.959466                0.006532               -0.622056   \n",
      "7         1.324325               -5.174023                1.624838   \n",
      "8        -0.800132                0.354009                0.238579   \n",
      "9         0.899434                1.428026                0.642905   \n",
      "10        1.627819               -1.293119                0.840941   \n",
      "11        0.262096               -1.983559                1.370690   \n",
      "12        0.350616                0.630410               -1.104358   \n",
      "13        0.997486               -1.662812                1.202740   \n",
      "14       -0.365584               -1.053127               -0.601577   \n",
      "15       -0.800132                0.117093                0.989469   \n",
      "16        0.527654                0.124990               -1.172227   \n",
      "17       -0.269018                1.301671               -1.349842   \n",
      "18        1.796427               -0.383062               -0.801114   \n",
      "19       -0.800132               -0.751598               -1.349842   \n",
      "20       -0.639188               -1.383373               -0.753856   \n",
      "21        0.545357                0.038121               -0.154194   \n",
      "22        0.527654               -0.870055               -0.093545   \n",
      "23       -0.091980               -0.040851                0.171192   \n",
      "24       -0.446056                1.933446                1.624838   \n",
      "\n",
      "    purchase_frequency  kmeans_opt_cluster  agg_ward_cluster  \\\n",
      "0            -0.695052                   0              -1.0   \n",
      "1            -0.392752                   0              -1.0   \n",
      "2            -0.037030                   0              -1.0   \n",
      "3            -0.200532                   1              -1.0   \n",
      "4            -0.142563                   0              -1.0   \n",
      "5             0.386203                   2              -1.0   \n",
      "6             0.177946                   0              -1.0   \n",
      "7            -0.952129                   1              -1.0   \n",
      "8            -0.462681                   0              -1.0   \n",
      "9            -0.648013                   1              -1.0   \n",
      "10           -0.723122                   1              -1.0   \n",
      "11           -0.887666                   1               1.0   \n",
      "12            0.848991                   2              -1.0   \n",
      "13           -0.840399                   1               0.0   \n",
      "14            0.156448                   2              -1.0   \n",
      "15           -0.774089                   0              -1.0   \n",
      "16            0.978588                   2              -1.0   \n",
      "17            1.381809                   2              -1.0   \n",
      "18            0.386203                   2              -1.0   \n",
      "19            1.381809                   2               0.0   \n",
      "20            0.327416                   2               0.0   \n",
      "21           -0.225134                   1              -1.0   \n",
      "22           -0.266580                   1              -1.0   \n",
      "23           -0.426627                   0              -1.0   \n",
      "24           -0.952129                   0              -1.0   \n",
      "\n",
      "    agg_complete_cluster  agg_average_cluster  agg_single_cluster  \\\n",
      "0                   -1.0                 -1.0                -1.0   \n",
      "1                   -1.0                 -1.0                -1.0   \n",
      "2                   -1.0                 -1.0                -1.0   \n",
      "3                   -1.0                 -1.0                 2.0   \n",
      "4                   -1.0                 -1.0                -1.0   \n",
      "5                   -1.0                 -1.0                -1.0   \n",
      "6                   -1.0                 -1.0                -1.0   \n",
      "7                   -1.0                 -1.0                -1.0   \n",
      "8                   -1.0                 -1.0                -1.0   \n",
      "9                   -1.0                 -1.0                -1.0   \n",
      "10                  -1.0                 -1.0                -1.0   \n",
      "11                  -1.0                 -1.0                -1.0   \n",
      "12                  -1.0                  2.0                -1.0   \n",
      "13                  -1.0                 -1.0                -1.0   \n",
      "14                  -1.0                  2.0                -1.0   \n",
      "15                  -1.0                 -1.0                -1.0   \n",
      "16                  -1.0                 -1.0                -1.0   \n",
      "17                  -1.0                 -1.0                -1.0   \n",
      "18                  -1.0                 -1.0                -1.0   \n",
      "19                  -1.0                  2.0                -1.0   \n",
      "20                   2.0                 -1.0                -1.0   \n",
      "21                  -1.0                 -1.0                -1.0   \n",
      "22                  -1.0                 -1.0                -1.0   \n",
      "23                  -1.0                 -1.0                -1.0   \n",
      "24                  -1.0                 -1.0                -1.0   \n",
      "\n",
      "    dbscan_cluster  user_id  \n",
      "0                0        1  \n",
      "1                0        2  \n",
      "2                0        3  \n",
      "3                0        4  \n",
      "4                0        5  \n",
      "5                0        6  \n",
      "6                0        7  \n",
      "7                0        8  \n",
      "8                0        9  \n",
      "9                0       10  \n",
      "10               0       11  \n",
      "11               0       12  \n",
      "12               0       13  \n",
      "13               0       14  \n",
      "14               0       15  \n",
      "15               0       16  \n",
      "16               0       17  \n",
      "17               0       18  \n",
      "18               0       19  \n",
      "19               0       20  \n",
      "20               0       21  \n",
      "21               0       22  \n",
      "22               0       23  \n",
      "23               0       24  \n",
      "24               0       25  \n"
     ]
    }
   ],
   "source": [
    "df_user_scaled = pd.read_csv(f'/Users/ryanm/Desktop/df-scaled.csv')\n",
    "\n",
    "\n",
    "print(df_user_scaled.shape)\n",
    "print(df_user_scaled.columns)\n",
    "print(df_user_scaled.head(25))\n",
    "df_user_scaled.isna().sum()\n",
    "\n",
    "agg_scaled = df_user_scaled"
   ]
  },
  {
   "cell_type": "markdown",
   "metadata": {},
   "source": [
    "#### The data imported has already been scaled using StandardScaler, which is appropriate for Agglomerative Clustering.  PCA has already been applied with a n_components = 2 value in a previous notebook, though we will do so again so we can show the process and reacquire our key pca_features variable."
   ]
  },
  {
   "cell_type": "code",
   "execution_count": 8,
   "metadata": {},
   "outputs": [
    {
     "ename": "ValueError",
     "evalue": "Input X contains NaN.\nPCA does not accept missing values encoded as NaN natively. For supervised learning, you might want to consider sklearn.ensemble.HistGradientBoostingClassifier and Regressor which accept missing values encoded as NaNs natively. Alternatively, it is possible to preprocess the data, for instance by using an imputer transformer in a pipeline or drop samples with missing values. See https://scikit-learn.org/stable/modules/impute.html You can find a list of all estimators that handle NaN values at the following page: https://scikit-learn.org/stable/modules/impute.html#estimators-that-handle-nan-values",
     "output_type": "error",
     "traceback": [
      "\u001b[1;31m---------------------------------------------------------------------------\u001b[0m",
      "\u001b[1;31mValueError\u001b[0m                                Traceback (most recent call last)",
      "Cell \u001b[1;32mIn[8], line 3\u001b[0m\n\u001b[0;32m      1\u001b[0m n_components \u001b[38;5;241m=\u001b[39m \u001b[38;5;241m2\u001b[39m\n\u001b[0;32m      2\u001b[0m pca_fit \u001b[38;5;241m=\u001b[39m PCA(n_components\u001b[38;5;241m=\u001b[39mn_components)\n\u001b[1;32m----> 3\u001b[0m pca_features \u001b[38;5;241m=\u001b[39m \u001b[43mpca_fit\u001b[49m\u001b[38;5;241;43m.\u001b[39;49m\u001b[43mfit_transform\u001b[49m\u001b[43m(\u001b[49m\u001b[43mdf_user_scaled\u001b[49m\u001b[43m)\u001b[49m\n",
      "File \u001b[1;32mc:\\Users\\ryanm\\Desktop\\Springboard DS\\Capstone 2 - Instacart Project\\myenv\\Lib\\site-packages\\sklearn\\utils\\_set_output.py:313\u001b[0m, in \u001b[0;36m_wrap_method_output.<locals>.wrapped\u001b[1;34m(self, X, *args, **kwargs)\u001b[0m\n\u001b[0;32m    311\u001b[0m \u001b[38;5;129m@wraps\u001b[39m(f)\n\u001b[0;32m    312\u001b[0m \u001b[38;5;28;01mdef\u001b[39;00m \u001b[38;5;21mwrapped\u001b[39m(\u001b[38;5;28mself\u001b[39m, X, \u001b[38;5;241m*\u001b[39margs, \u001b[38;5;241m*\u001b[39m\u001b[38;5;241m*\u001b[39mkwargs):\n\u001b[1;32m--> 313\u001b[0m     data_to_wrap \u001b[38;5;241m=\u001b[39m \u001b[43mf\u001b[49m\u001b[43m(\u001b[49m\u001b[38;5;28;43mself\u001b[39;49m\u001b[43m,\u001b[49m\u001b[43m \u001b[49m\u001b[43mX\u001b[49m\u001b[43m,\u001b[49m\u001b[43m \u001b[49m\u001b[38;5;241;43m*\u001b[39;49m\u001b[43margs\u001b[49m\u001b[43m,\u001b[49m\u001b[43m \u001b[49m\u001b[38;5;241;43m*\u001b[39;49m\u001b[38;5;241;43m*\u001b[39;49m\u001b[43mkwargs\u001b[49m\u001b[43m)\u001b[49m\n\u001b[0;32m    314\u001b[0m     \u001b[38;5;28;01mif\u001b[39;00m \u001b[38;5;28misinstance\u001b[39m(data_to_wrap, \u001b[38;5;28mtuple\u001b[39m):\n\u001b[0;32m    315\u001b[0m         \u001b[38;5;66;03m# only wrap the first output for cross decomposition\u001b[39;00m\n\u001b[0;32m    316\u001b[0m         return_tuple \u001b[38;5;241m=\u001b[39m (\n\u001b[0;32m    317\u001b[0m             _wrap_data_with_container(method, data_to_wrap[\u001b[38;5;241m0\u001b[39m], X, \u001b[38;5;28mself\u001b[39m),\n\u001b[0;32m    318\u001b[0m             \u001b[38;5;241m*\u001b[39mdata_to_wrap[\u001b[38;5;241m1\u001b[39m:],\n\u001b[0;32m    319\u001b[0m         )\n",
      "File \u001b[1;32mc:\\Users\\ryanm\\Desktop\\Springboard DS\\Capstone 2 - Instacart Project\\myenv\\Lib\\site-packages\\sklearn\\base.py:1473\u001b[0m, in \u001b[0;36m_fit_context.<locals>.decorator.<locals>.wrapper\u001b[1;34m(estimator, *args, **kwargs)\u001b[0m\n\u001b[0;32m   1466\u001b[0m     estimator\u001b[38;5;241m.\u001b[39m_validate_params()\n\u001b[0;32m   1468\u001b[0m \u001b[38;5;28;01mwith\u001b[39;00m config_context(\n\u001b[0;32m   1469\u001b[0m     skip_parameter_validation\u001b[38;5;241m=\u001b[39m(\n\u001b[0;32m   1470\u001b[0m         prefer_skip_nested_validation \u001b[38;5;129;01mor\u001b[39;00m global_skip_validation\n\u001b[0;32m   1471\u001b[0m     )\n\u001b[0;32m   1472\u001b[0m ):\n\u001b[1;32m-> 1473\u001b[0m     \u001b[38;5;28;01mreturn\u001b[39;00m \u001b[43mfit_method\u001b[49m\u001b[43m(\u001b[49m\u001b[43mestimator\u001b[49m\u001b[43m,\u001b[49m\u001b[43m \u001b[49m\u001b[38;5;241;43m*\u001b[39;49m\u001b[43margs\u001b[49m\u001b[43m,\u001b[49m\u001b[43m \u001b[49m\u001b[38;5;241;43m*\u001b[39;49m\u001b[38;5;241;43m*\u001b[39;49m\u001b[43mkwargs\u001b[49m\u001b[43m)\u001b[49m\n",
      "File \u001b[1;32mc:\\Users\\ryanm\\Desktop\\Springboard DS\\Capstone 2 - Instacart Project\\myenv\\Lib\\site-packages\\sklearn\\decomposition\\_pca.py:474\u001b[0m, in \u001b[0;36mPCA.fit_transform\u001b[1;34m(self, X, y)\u001b[0m\n\u001b[0;32m    451\u001b[0m \u001b[38;5;129m@_fit_context\u001b[39m(prefer_skip_nested_validation\u001b[38;5;241m=\u001b[39m\u001b[38;5;28;01mTrue\u001b[39;00m)\n\u001b[0;32m    452\u001b[0m \u001b[38;5;28;01mdef\u001b[39;00m \u001b[38;5;21mfit_transform\u001b[39m(\u001b[38;5;28mself\u001b[39m, X, y\u001b[38;5;241m=\u001b[39m\u001b[38;5;28;01mNone\u001b[39;00m):\n\u001b[0;32m    453\u001b[0m \u001b[38;5;250m    \u001b[39m\u001b[38;5;124;03m\"\"\"Fit the model with X and apply the dimensionality reduction on X.\u001b[39;00m\n\u001b[0;32m    454\u001b[0m \n\u001b[0;32m    455\u001b[0m \u001b[38;5;124;03m    Parameters\u001b[39;00m\n\u001b[1;32m   (...)\u001b[0m\n\u001b[0;32m    472\u001b[0m \u001b[38;5;124;03m    C-ordered array, use 'np.ascontiguousarray'.\u001b[39;00m\n\u001b[0;32m    473\u001b[0m \u001b[38;5;124;03m    \"\"\"\u001b[39;00m\n\u001b[1;32m--> 474\u001b[0m     U, S, _, X, x_is_centered, xp \u001b[38;5;241m=\u001b[39m \u001b[38;5;28;43mself\u001b[39;49m\u001b[38;5;241;43m.\u001b[39;49m\u001b[43m_fit\u001b[49m\u001b[43m(\u001b[49m\u001b[43mX\u001b[49m\u001b[43m)\u001b[49m\n\u001b[0;32m    475\u001b[0m     \u001b[38;5;28;01mif\u001b[39;00m U \u001b[38;5;129;01mis\u001b[39;00m \u001b[38;5;129;01mnot\u001b[39;00m \u001b[38;5;28;01mNone\u001b[39;00m:\n\u001b[0;32m    476\u001b[0m         U \u001b[38;5;241m=\u001b[39m U[:, : \u001b[38;5;28mself\u001b[39m\u001b[38;5;241m.\u001b[39mn_components_]\n",
      "File \u001b[1;32mc:\\Users\\ryanm\\Desktop\\Springboard DS\\Capstone 2 - Instacart Project\\myenv\\Lib\\site-packages\\sklearn\\decomposition\\_pca.py:511\u001b[0m, in \u001b[0;36mPCA._fit\u001b[1;34m(self, X)\u001b[0m\n\u001b[0;32m    501\u001b[0m     \u001b[38;5;28;01mraise\u001b[39;00m \u001b[38;5;167;01mValueError\u001b[39;00m(\n\u001b[0;32m    502\u001b[0m         \u001b[38;5;124m\"\u001b[39m\u001b[38;5;124mPCA with svd_solver=\u001b[39m\u001b[38;5;124m'\u001b[39m\u001b[38;5;124marpack\u001b[39m\u001b[38;5;124m'\u001b[39m\u001b[38;5;124m is not supported for Array API inputs.\u001b[39m\u001b[38;5;124m\"\u001b[39m\n\u001b[0;32m    503\u001b[0m     )\n\u001b[0;32m    505\u001b[0m \u001b[38;5;66;03m# Validate the data, without ever forcing a copy as any solver that\u001b[39;00m\n\u001b[0;32m    506\u001b[0m \u001b[38;5;66;03m# supports sparse input data and the `covariance_eigh` solver are\u001b[39;00m\n\u001b[0;32m    507\u001b[0m \u001b[38;5;66;03m# written in a way to avoid the need for any inplace modification of\u001b[39;00m\n\u001b[0;32m    508\u001b[0m \u001b[38;5;66;03m# the input data contrary to the other solvers.\u001b[39;00m\n\u001b[0;32m    509\u001b[0m \u001b[38;5;66;03m# The copy will happen\u001b[39;00m\n\u001b[0;32m    510\u001b[0m \u001b[38;5;66;03m# later, only if needed, once the solver negotiation below is done.\u001b[39;00m\n\u001b[1;32m--> 511\u001b[0m X \u001b[38;5;241m=\u001b[39m \u001b[38;5;28;43mself\u001b[39;49m\u001b[38;5;241;43m.\u001b[39;49m\u001b[43m_validate_data\u001b[49m\u001b[43m(\u001b[49m\n\u001b[0;32m    512\u001b[0m \u001b[43m    \u001b[49m\u001b[43mX\u001b[49m\u001b[43m,\u001b[49m\n\u001b[0;32m    513\u001b[0m \u001b[43m    \u001b[49m\u001b[43mdtype\u001b[49m\u001b[38;5;241;43m=\u001b[39;49m\u001b[43m[\u001b[49m\u001b[43mxp\u001b[49m\u001b[38;5;241;43m.\u001b[39;49m\u001b[43mfloat64\u001b[49m\u001b[43m,\u001b[49m\u001b[43m \u001b[49m\u001b[43mxp\u001b[49m\u001b[38;5;241;43m.\u001b[39;49m\u001b[43mfloat32\u001b[49m\u001b[43m]\u001b[49m\u001b[43m,\u001b[49m\n\u001b[0;32m    514\u001b[0m \u001b[43m    \u001b[49m\u001b[43maccept_sparse\u001b[49m\u001b[38;5;241;43m=\u001b[39;49m\u001b[43m(\u001b[49m\u001b[38;5;124;43m\"\u001b[39;49m\u001b[38;5;124;43mcsr\u001b[39;49m\u001b[38;5;124;43m\"\u001b[39;49m\u001b[43m,\u001b[49m\u001b[43m \u001b[49m\u001b[38;5;124;43m\"\u001b[39;49m\u001b[38;5;124;43mcsc\u001b[39;49m\u001b[38;5;124;43m\"\u001b[39;49m\u001b[43m)\u001b[49m\u001b[43m,\u001b[49m\n\u001b[0;32m    515\u001b[0m \u001b[43m    \u001b[49m\u001b[43mensure_2d\u001b[49m\u001b[38;5;241;43m=\u001b[39;49m\u001b[38;5;28;43;01mTrue\u001b[39;49;00m\u001b[43m,\u001b[49m\n\u001b[0;32m    516\u001b[0m \u001b[43m    \u001b[49m\u001b[43mcopy\u001b[49m\u001b[38;5;241;43m=\u001b[39;49m\u001b[38;5;28;43;01mFalse\u001b[39;49;00m\u001b[43m,\u001b[49m\n\u001b[0;32m    517\u001b[0m \u001b[43m\u001b[49m\u001b[43m)\u001b[49m\n\u001b[0;32m    518\u001b[0m \u001b[38;5;28mself\u001b[39m\u001b[38;5;241m.\u001b[39m_fit_svd_solver \u001b[38;5;241m=\u001b[39m \u001b[38;5;28mself\u001b[39m\u001b[38;5;241m.\u001b[39msvd_solver\n\u001b[0;32m    519\u001b[0m \u001b[38;5;28;01mif\u001b[39;00m \u001b[38;5;28mself\u001b[39m\u001b[38;5;241m.\u001b[39m_fit_svd_solver \u001b[38;5;241m==\u001b[39m \u001b[38;5;124m\"\u001b[39m\u001b[38;5;124mauto\u001b[39m\u001b[38;5;124m\"\u001b[39m \u001b[38;5;129;01mand\u001b[39;00m issparse(X):\n",
      "File \u001b[1;32mc:\\Users\\ryanm\\Desktop\\Springboard DS\\Capstone 2 - Instacart Project\\myenv\\Lib\\site-packages\\sklearn\\base.py:633\u001b[0m, in \u001b[0;36mBaseEstimator._validate_data\u001b[1;34m(self, X, y, reset, validate_separately, cast_to_ndarray, **check_params)\u001b[0m\n\u001b[0;32m    631\u001b[0m         out \u001b[38;5;241m=\u001b[39m X, y\n\u001b[0;32m    632\u001b[0m \u001b[38;5;28;01melif\u001b[39;00m \u001b[38;5;129;01mnot\u001b[39;00m no_val_X \u001b[38;5;129;01mand\u001b[39;00m no_val_y:\n\u001b[1;32m--> 633\u001b[0m     out \u001b[38;5;241m=\u001b[39m \u001b[43mcheck_array\u001b[49m\u001b[43m(\u001b[49m\u001b[43mX\u001b[49m\u001b[43m,\u001b[49m\u001b[43m \u001b[49m\u001b[43minput_name\u001b[49m\u001b[38;5;241;43m=\u001b[39;49m\u001b[38;5;124;43m\"\u001b[39;49m\u001b[38;5;124;43mX\u001b[39;49m\u001b[38;5;124;43m\"\u001b[39;49m\u001b[43m,\u001b[49m\u001b[43m \u001b[49m\u001b[38;5;241;43m*\u001b[39;49m\u001b[38;5;241;43m*\u001b[39;49m\u001b[43mcheck_params\u001b[49m\u001b[43m)\u001b[49m\n\u001b[0;32m    634\u001b[0m \u001b[38;5;28;01melif\u001b[39;00m no_val_X \u001b[38;5;129;01mand\u001b[39;00m \u001b[38;5;129;01mnot\u001b[39;00m no_val_y:\n\u001b[0;32m    635\u001b[0m     out \u001b[38;5;241m=\u001b[39m _check_y(y, \u001b[38;5;241m*\u001b[39m\u001b[38;5;241m*\u001b[39mcheck_params)\n",
      "File \u001b[1;32mc:\\Users\\ryanm\\Desktop\\Springboard DS\\Capstone 2 - Instacart Project\\myenv\\Lib\\site-packages\\sklearn\\utils\\validation.py:1059\u001b[0m, in \u001b[0;36mcheck_array\u001b[1;34m(array, accept_sparse, accept_large_sparse, dtype, order, copy, force_all_finite, ensure_2d, allow_nd, ensure_min_samples, ensure_min_features, estimator, input_name)\u001b[0m\n\u001b[0;32m   1053\u001b[0m     \u001b[38;5;28;01mraise\u001b[39;00m \u001b[38;5;167;01mValueError\u001b[39;00m(\n\u001b[0;32m   1054\u001b[0m         \u001b[38;5;124m\"\u001b[39m\u001b[38;5;124mFound array with dim \u001b[39m\u001b[38;5;132;01m%d\u001b[39;00m\u001b[38;5;124m. \u001b[39m\u001b[38;5;132;01m%s\u001b[39;00m\u001b[38;5;124m expected <= 2.\u001b[39m\u001b[38;5;124m\"\u001b[39m\n\u001b[0;32m   1055\u001b[0m         \u001b[38;5;241m%\u001b[39m (array\u001b[38;5;241m.\u001b[39mndim, estimator_name)\n\u001b[0;32m   1056\u001b[0m     )\n\u001b[0;32m   1058\u001b[0m \u001b[38;5;28;01mif\u001b[39;00m force_all_finite:\n\u001b[1;32m-> 1059\u001b[0m     \u001b[43m_assert_all_finite\u001b[49m\u001b[43m(\u001b[49m\n\u001b[0;32m   1060\u001b[0m \u001b[43m        \u001b[49m\u001b[43marray\u001b[49m\u001b[43m,\u001b[49m\n\u001b[0;32m   1061\u001b[0m \u001b[43m        \u001b[49m\u001b[43minput_name\u001b[49m\u001b[38;5;241;43m=\u001b[39;49m\u001b[43minput_name\u001b[49m\u001b[43m,\u001b[49m\n\u001b[0;32m   1062\u001b[0m \u001b[43m        \u001b[49m\u001b[43mestimator_name\u001b[49m\u001b[38;5;241;43m=\u001b[39;49m\u001b[43mestimator_name\u001b[49m\u001b[43m,\u001b[49m\n\u001b[0;32m   1063\u001b[0m \u001b[43m        \u001b[49m\u001b[43mallow_nan\u001b[49m\u001b[38;5;241;43m=\u001b[39;49m\u001b[43mforce_all_finite\u001b[49m\u001b[43m \u001b[49m\u001b[38;5;241;43m==\u001b[39;49m\u001b[43m \u001b[49m\u001b[38;5;124;43m\"\u001b[39;49m\u001b[38;5;124;43mallow-nan\u001b[39;49m\u001b[38;5;124;43m\"\u001b[39;49m\u001b[43m,\u001b[49m\n\u001b[0;32m   1064\u001b[0m \u001b[43m    \u001b[49m\u001b[43m)\u001b[49m\n\u001b[0;32m   1066\u001b[0m \u001b[38;5;28;01mif\u001b[39;00m copy:\n\u001b[0;32m   1067\u001b[0m     \u001b[38;5;28;01mif\u001b[39;00m _is_numpy_namespace(xp):\n\u001b[0;32m   1068\u001b[0m         \u001b[38;5;66;03m# only make a copy if `array` and `array_orig` may share memory`\u001b[39;00m\n",
      "File \u001b[1;32mc:\\Users\\ryanm\\Desktop\\Springboard DS\\Capstone 2 - Instacart Project\\myenv\\Lib\\site-packages\\sklearn\\utils\\validation.py:126\u001b[0m, in \u001b[0;36m_assert_all_finite\u001b[1;34m(X, allow_nan, msg_dtype, estimator_name, input_name)\u001b[0m\n\u001b[0;32m    123\u001b[0m \u001b[38;5;28;01mif\u001b[39;00m first_pass_isfinite:\n\u001b[0;32m    124\u001b[0m     \u001b[38;5;28;01mreturn\u001b[39;00m\n\u001b[1;32m--> 126\u001b[0m \u001b[43m_assert_all_finite_element_wise\u001b[49m\u001b[43m(\u001b[49m\n\u001b[0;32m    127\u001b[0m \u001b[43m    \u001b[49m\u001b[43mX\u001b[49m\u001b[43m,\u001b[49m\n\u001b[0;32m    128\u001b[0m \u001b[43m    \u001b[49m\u001b[43mxp\u001b[49m\u001b[38;5;241;43m=\u001b[39;49m\u001b[43mxp\u001b[49m\u001b[43m,\u001b[49m\n\u001b[0;32m    129\u001b[0m \u001b[43m    \u001b[49m\u001b[43mallow_nan\u001b[49m\u001b[38;5;241;43m=\u001b[39;49m\u001b[43mallow_nan\u001b[49m\u001b[43m,\u001b[49m\n\u001b[0;32m    130\u001b[0m \u001b[43m    \u001b[49m\u001b[43mmsg_dtype\u001b[49m\u001b[38;5;241;43m=\u001b[39;49m\u001b[43mmsg_dtype\u001b[49m\u001b[43m,\u001b[49m\n\u001b[0;32m    131\u001b[0m \u001b[43m    \u001b[49m\u001b[43mestimator_name\u001b[49m\u001b[38;5;241;43m=\u001b[39;49m\u001b[43mestimator_name\u001b[49m\u001b[43m,\u001b[49m\n\u001b[0;32m    132\u001b[0m \u001b[43m    \u001b[49m\u001b[43minput_name\u001b[49m\u001b[38;5;241;43m=\u001b[39;49m\u001b[43minput_name\u001b[49m\u001b[43m,\u001b[49m\n\u001b[0;32m    133\u001b[0m \u001b[43m\u001b[49m\u001b[43m)\u001b[49m\n",
      "File \u001b[1;32mc:\\Users\\ryanm\\Desktop\\Springboard DS\\Capstone 2 - Instacart Project\\myenv\\Lib\\site-packages\\sklearn\\utils\\validation.py:175\u001b[0m, in \u001b[0;36m_assert_all_finite_element_wise\u001b[1;34m(X, xp, allow_nan, msg_dtype, estimator_name, input_name)\u001b[0m\n\u001b[0;32m    158\u001b[0m \u001b[38;5;28;01mif\u001b[39;00m estimator_name \u001b[38;5;129;01mand\u001b[39;00m input_name \u001b[38;5;241m==\u001b[39m \u001b[38;5;124m\"\u001b[39m\u001b[38;5;124mX\u001b[39m\u001b[38;5;124m\"\u001b[39m \u001b[38;5;129;01mand\u001b[39;00m has_nan_error:\n\u001b[0;32m    159\u001b[0m     \u001b[38;5;66;03m# Improve the error message on how to handle missing values in\u001b[39;00m\n\u001b[0;32m    160\u001b[0m     \u001b[38;5;66;03m# scikit-learn.\u001b[39;00m\n\u001b[0;32m    161\u001b[0m     msg_err \u001b[38;5;241m+\u001b[39m\u001b[38;5;241m=\u001b[39m (\n\u001b[0;32m    162\u001b[0m         \u001b[38;5;124mf\u001b[39m\u001b[38;5;124m\"\u001b[39m\u001b[38;5;130;01m\\n\u001b[39;00m\u001b[38;5;132;01m{\u001b[39;00mestimator_name\u001b[38;5;132;01m}\u001b[39;00m\u001b[38;5;124m does not accept missing values\u001b[39m\u001b[38;5;124m\"\u001b[39m\n\u001b[0;32m    163\u001b[0m         \u001b[38;5;124m\"\u001b[39m\u001b[38;5;124m encoded as NaN natively. For supervised learning, you might want\u001b[39m\u001b[38;5;124m\"\u001b[39m\n\u001b[1;32m   (...)\u001b[0m\n\u001b[0;32m    173\u001b[0m         \u001b[38;5;124m\"\u001b[39m\u001b[38;5;124m#estimators-that-handle-nan-values\u001b[39m\u001b[38;5;124m\"\u001b[39m\n\u001b[0;32m    174\u001b[0m     )\n\u001b[1;32m--> 175\u001b[0m \u001b[38;5;28;01mraise\u001b[39;00m \u001b[38;5;167;01mValueError\u001b[39;00m(msg_err)\n",
      "\u001b[1;31mValueError\u001b[0m: Input X contains NaN.\nPCA does not accept missing values encoded as NaN natively. For supervised learning, you might want to consider sklearn.ensemble.HistGradientBoostingClassifier and Regressor which accept missing values encoded as NaNs natively. Alternatively, it is possible to preprocess the data, for instance by using an imputer transformer in a pipeline or drop samples with missing values. See https://scikit-learn.org/stable/modules/impute.html You can find a list of all estimators that handle NaN values at the following page: https://scikit-learn.org/stable/modules/impute.html#estimators-that-handle-nan-values"
     ]
    }
   ],
   "source": [
    "n_components = 2\n",
    "pca_fit = PCA(n_components=n_components)\n",
    "pca_features = pca_fit.fit_transform(agg_scaled)"
   ]
  },
  {
   "cell_type": "markdown",
   "metadata": {},
   "source": [
    "#### Since Agglomerative Clustering doesn't benefit from elbow plots (as Agglomerative Clustering doesn't use Inertia-based criterion) we will now go into the silhouette plotting to see how many clusters there are in our dataframe based on the Agglomerative Clustering method.  One of the key differences in this clustering method is that we will be looking at 4 different linkage methods within Agglomerative Clustering (ward, complete, average, and single), so there will be repeated processes to obtain different insights.  For the below we will once again be using the yellowbrick library for visualization."
   ]
  },
  {
   "cell_type": "code",
   "execution_count": null,
   "metadata": {},
   "outputs": [],
   "source": [
    "linkage_methods = ['ward', 'complete', 'average', 'single']\n",
    "silhouette_scores = {method: [] for method in linkage_methods}\n",
    "\n",
    "for method in linkage_methods:\n",
    "    for n_clusters in range(2,11):\n",
    "        agg = AgglomerativeClustering(n_clusters = n_clusters, linkage = method)\n",
    "        visualizer = SilhouetteVisualizer(agg, colors = 'yellowbrick')\n",
    "        visualizer.fit(pca_features)\n",
    "        visualizer.show()\n",
    "        silhouette_scores[method].append(visualizer.silhouette_score_)\n",
    "\n",
    "silhouette_agg_df = pd.DataFrame(silhouette_scores, index = range(2,11))"
   ]
  },
  {
   "cell_type": "code",
   "execution_count": null,
   "metadata": {},
   "outputs": [],
   "source": [
    "plt.figure(figsize = (10,8))\n",
    "for method in linkage_methods:\n",
    "    plt.plot(silhouette_agg_df.index, silhouette_agg_df[method], marker = 'o', label= 'method')\n",
    "\n",
    "plt.title('Silhouette Scores for Different Linkage Methods')\n",
    "plt.xlabel('Number of Clusters')\n",
    "plt.ylabel('Silhouette Score')\n",
    "plt.legend()\n",
    "plt.grid(True)\n",
    "plt.show()"
   ]
  },
  {
   "cell_type": "markdown",
   "metadata": {},
   "source": [
    "#### Saved for OBS"
   ]
  },
  {
   "cell_type": "markdown",
   "metadata": {},
   "source": [
    "#### Now we will establish our key optimal_k variable like we did in the previous notebook as well as establish variables for each Agglomerative Clustering linkage method to use in our forthcoming plots, then look at some pairplots to see any representative relationships.  Note that we are only using a small sampling of the data here, as Agglomerative Clustering is quite memory-intensive."
   ]
  },
  {
   "cell_type": "code",
   "execution_count": null,
   "metadata": {},
   "outputs": [],
   "source": [
    "optimal_k = \n",
    "\n",
    "def agg_clustering_mod_sample(linkage, data, df, cluster_col_name, sample_size = 15000):\n",
    "    sample_indices = np.random.choice(len(data), size = sample_size, replace = False)\n",
    "    sample_data = data[sample_indices]\n",
    "    sample_df = df.iloc[sample_indices].reset_index(drop = True)\n",
    "    \n",
    "    agg = AgglomerativeClustering(n_clusters = optimal_k, linkage = linkage)\n",
    "    sample_df[cluster_col_name] = agg.fit_predict(sample_data)\n",
    "    df[cluster_col_name] = -1\n",
    "    \n",
    "    df.loc[sample_indices, cluster_col_name] = sample_df[cluster_col_name]\n",
    "    \n",
    "    return df, sample_data, sample_df\n",
    "\n",
    "sample_size = 15000\n",
    "\n",
    "agg_scaled, pca_features_sampled_ward, agg_scaled_sampled_ward = agg_clustering_mod_sample('ward', pca_features, agg_scaled, 'agg_ward_cluster', sample_size = sample_size)\n",
    "agg_scaled, pca_features_sampled_complete, agg_scaled_sampled_complete = agg_clustering_mod_sample('complete', pca_features, agg_scaled, 'agg_complete_cluster', sample_size = sample_size)\n",
    "agg_scaled, pca_features_sampled_average, agg_scaled_sampled_average = agg_clustering_mod_sample('average', pca_features, agg_scaled, 'agg_average_cluster', sample_size = sample_size)\n",
    "agg_scaled, pca_features_sampled_single, agg_scaled_sampled_single = agg_clustering_mod_sample('single', pca_features, agg_scaled, 'agg_single_cluster', sample_size = sample_size)\n"
   ]
  },
  {
   "cell_type": "markdown",
   "metadata": {},
   "source": [
    "#### With our key variables created let's look at the pairplots."
   ]
  },
  {
   "cell_type": "code",
   "execution_count": null,
   "metadata": {},
   "outputs": [],
   "source": [
    "sns.pairplot(agg_scaled_sampled_ward, hue = 'agg_ward_cluster', palette = 'viridis', diag_kind= 'kde')\n",
    "plt.suptitle('Agglomerative Clustering (Euclidean, Ward)', y = 1.02)\n",
    "plt.show()\n",
    "\n",
    "sns.pairplot(agg_scaled_sampled_complete, hue = 'agg_complete_cluster', palette = 'viridis', diag_kind = 'kde')\n",
    "plt.suptitle('Agglomerative Clustering (Euclidean, Complete)', y = 1.02)\n",
    "plt.show()\n",
    "\n",
    "sns.pairplot(agg_scaled_sampled_average, hue = 'agg_average_cluster', palette = 'viridis', diag_kind= 'kde')\n",
    "plt.suptitle('Agglomerative Clustering (Euclidean, Average)', y = 1.02)\n",
    "plt.show()\n",
    "\n",
    "sns.pairplot(agg_scaled_sampled_single, hue = 'agg_single_cluster', palette = 'viridis', diag_kind = 'kde')\n",
    "plt.suptitle('Agglomerative Clustering (Euclidean, Single)', y = 1.02)\n",
    "plt.show()"
   ]
  },
  {
   "cell_type": "markdown",
   "metadata": {},
   "source": [
    "#### MKDN for OBS"
   ]
  },
  {
   "cell_type": "markdown",
   "metadata": {},
   "source": [
    "#### Now let's look at some quick histplots for population size for each linkage method to see the normalization, we are looking for (as close as possible) the same population size in each cluster per linkage method."
   ]
  },
  {
   "cell_type": "code",
   "execution_count": null,
   "metadata": {},
   "outputs": [],
   "source": [
    "def agg_histplot_cluster(cluster_labels, title):\n",
    "    plt.figure(figsize = (10,8))\n",
    "    sns.histplot(cluster_labels, bins = len(np.unique(cluster_labels)), kde = False)\n",
    "    plt.title(f'Cluster Size Distribution - {title}')\n",
    "    plt.xlabel('Cluster')\n",
    "    plt.ylabel('Number of Points')\n",
    "    plt.show()\n",
    "\n",
    "agg_histplot_cluster(agg_scaled_sampled_ward['agg_ward_cluster'], 'Agglomerative Clustering (Ward)')\n",
    "agg_histplot_cluster(agg_scaled_sampled_complete['agg_complete_cluster'], 'Agglomerative Clustering (Complete)')\n",
    "agg_histplot_cluster(agg_scaled_sampled_average['agg_average_cluster'], 'Agglomerative Clustering (Average)')\n",
    "agg_histplot_cluster(agg_scaled_sampled_single['agg_single_cluster'], 'Agglomerative Clustering (Single)')"
   ]
  },
  {
   "cell_type": "markdown",
   "metadata": {},
   "source": [
    "#### MKDN for OBS (choose linkage method here)"
   ]
  },
  {
   "cell_type": "markdown",
   "metadata": {},
   "source": [
    "#### Now let's look at a 3D render of our chosen optimal_k value and linkage method, while also taking a look at outliers as well in this section."
   ]
  },
  {
   "cell_type": "markdown",
   "metadata": {},
   "source": []
  }
 ],
 "metadata": {
  "kernelspec": {
   "display_name": "Python (myenv)",
   "language": "python",
   "name": "myenv"
  },
  "language_info": {
   "codemirror_mode": {
    "name": "ipython",
    "version": 3
   },
   "file_extension": ".py",
   "mimetype": "text/x-python",
   "name": "python",
   "nbconvert_exporter": "python",
   "pygments_lexer": "ipython3",
   "version": "3.11.0"
  }
 },
 "nbformat": 4,
 "nbformat_minor": 2
}
